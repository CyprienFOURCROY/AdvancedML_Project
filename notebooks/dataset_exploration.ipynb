{
 "cells": [
  {
   "cell_type": "code",
   "execution_count": 4,
   "metadata": {},
   "outputs": [],
   "source": [
    "import os\n",
    "import pandas as pd"
   ]
  },
  {
   "cell_type": "markdown",
   "metadata": {},
   "source": [
    "### wine quality"
   ]
  },
  {
   "cell_type": "code",
   "execution_count": 14,
   "metadata": {},
   "outputs": [],
   "source": [
    "import pandas as pd\n",
    "\n",
    "import os\n",
    "\n",
    "for dirname, _, filenames in os.walk(\"wine+quality\"):\n",
    "    for filename in filenames:\n",
    "        print(os.path.join(dirname, filename))\n",
    "\n",
    "path_red = Path(\"../data/raw/wine+quality/winequality-red.csv\")\n",
    "path_white = Path(\"../data/raw/wine+quality/winequality-white.csv\")\n",
    "df_red = pd.read_csv(path_red, sep=\";\")\n",
    "df_white = pd.read_csv(path_white, sep=\";\")"
   ]
  },
  {
   "cell_type": "code",
   "execution_count": 16,
   "metadata": {},
   "outputs": [],
   "source": [
    "df_red[\"Y\"] = 0\n",
    "df_white[\"Y\"] = 1\n",
    "\n",
    "\n",
    "df_concat = pd.concat([df_red, df_white], axis=0)\n",
    "\n",
    "for column in df_concat.columns:\n",
    "    if column != \"Y\":\n",
    "        df_concat[column] = (df_concat[column] - df_concat[column].mean()) / df_concat[\n",
    "            column\n",
    "        ].std()"
   ]
  },
  {
   "cell_type": "code",
   "execution_count": 18,
   "metadata": {},
   "outputs": [
    {
     "name": "stdout",
     "output_type": "stream",
     "text": [
      "Preprocessed dataset saved at: ..\\data\\preprocessed\\wine_quality.csv\n"
     ]
    }
   ],
   "source": [
    "output_path = Path(\"../data/preprocessed/wine_quality.csv\")\n",
    "output_path.parent.mkdir(parents=True, exist_ok=True)\n",
    "df_concat.to_csv(output_path, index=False)\n",
    "\n",
    "print(\"Preprocessed dataset saved at:\", output_path)"
   ]
  },
  {
   "cell_type": "markdown",
   "metadata": {},
   "source": [
    "### Breast Cancer"
   ]
  },
  {
   "cell_type": "code",
   "execution_count": 31,
   "metadata": {},
   "outputs": [
    {
     "name": "stdout",
     "output_type": "stream",
     "text": [
      "          Y    X_1    X_2     X_3     X_4      X_5      X_6     X_7      X_8  \\\n",
      "842302    1  17.99  10.38  122.80  1001.0  0.11840  0.27760  0.3001  0.14710   \n",
      "842517    1  20.57  17.77  132.90  1326.0  0.08474  0.07864  0.0869  0.07017   \n",
      "84300903  1  19.69  21.25  130.00  1203.0  0.10960  0.15990  0.1974  0.12790   \n",
      "84348301  1  11.42  20.38   77.58   386.1  0.14250  0.28390  0.2414  0.10520   \n",
      "84358402  1  20.29  14.34  135.10  1297.0  0.10030  0.13280  0.1980  0.10430   \n",
      "\n",
      "             X_9  ...   X_21   X_22    X_23    X_24    X_25    X_26    X_27  \\\n",
      "842302    0.2419  ...  25.38  17.33  184.60  2019.0  0.1622  0.6656  0.7119   \n",
      "842517    0.1812  ...  24.99  23.41  158.80  1956.0  0.1238  0.1866  0.2416   \n",
      "84300903  0.2069  ...  23.57  25.53  152.50  1709.0  0.1444  0.4245  0.4504   \n",
      "84348301  0.2597  ...  14.91  26.50   98.87   567.7  0.2098  0.8663  0.6869   \n",
      "84358402  0.1809  ...  22.54  16.67  152.20  1575.0  0.1374  0.2050  0.4000   \n",
      "\n",
      "            X_28    X_29     X_30  \n",
      "842302    0.2654  0.4601  0.11890  \n",
      "842517    0.1860  0.2750  0.08902  \n",
      "84300903  0.2430  0.3613  0.08758  \n",
      "84348301  0.2575  0.6638  0.17300  \n",
      "84358402  0.1625  0.2364  0.07678  \n",
      "\n",
      "[5 rows x 31 columns]\n"
     ]
    }
   ],
   "source": [
    "path = Path(\"../data/raw/breast+cancer+wisconsin+diagnostic/wdbc.data\")\n",
    "\n",
    "\n",
    "columns = [\"Y\"] + [ f\"X_{i}\" for i in range(1, 31) ] \n",
    "\n",
    "data = pd.read_csv(path, header=None, names=columns)\n",
    "\n",
    "data[\"Y\"] = data[\"Y\"].map({\"M\": 1, \"B\": 0})\n",
    "\n",
    "print(data.head())"
   ]
  },
  {
   "cell_type": "code",
   "execution_count": 34,
   "metadata": {},
   "outputs": [
    {
     "data": {
      "text/plain": [
       "Y\n",
       "0    357\n",
       "1    212\n",
       "Name: count, dtype: int64"
      ]
     },
     "execution_count": 34,
     "metadata": {},
     "output_type": "execute_result"
    }
   ],
   "source": [
    "data[\"Y\"].value_counts()"
   ]
  },
  {
   "cell_type": "code",
   "execution_count": 35,
   "metadata": {},
   "outputs": [
    {
     "name": "stdout",
     "output_type": "stream",
     "text": [
      "Missing values:\n",
      " Series([], dtype: int64)\n",
      "Highly correlated features to drop: []\n",
      "✅ Preprocessed data saved to: ..\\data\\preprocessed\\breast_cancer.csv\n",
      "        X_1       X_2       X_5       X_6       X_7       X_8       X_9  \\\n",
      "0  1.097064 -2.073335  1.568466  3.283515  2.652874  2.532475  2.217515   \n",
      "1  1.829821 -0.353632 -0.826962 -0.487072 -0.023846  0.548144  0.001392   \n",
      "2  1.579888  0.456187  0.942210  1.052926  1.363478  2.037231  0.939685   \n",
      "3 -0.768909  0.253732  3.283553  3.402909  1.915897  1.451707  2.867383   \n",
      "4  1.750297 -1.151816  0.280372  0.539340  1.371011  1.428493 -0.009560   \n",
      "\n",
      "       X_10      X_11      X_12  ...      X_19      X_20      X_22      X_25  \\\n",
      "0  2.255747  2.489734 -0.565265  ...  1.148757  0.907083 -1.359293  1.307686   \n",
      "1 -0.868652  0.499255 -0.876244  ... -0.805450 -0.099444 -0.369203 -0.375612   \n",
      "2 -0.398008  1.228676 -0.780083  ...  0.237036  0.293559 -0.023974  0.527407   \n",
      "3  4.910919  0.326373 -0.110409  ...  4.732680  2.047511  0.133984  3.394275   \n",
      "4 -0.562450  1.270543 -0.790244  ... -0.361092  0.499328 -1.466770  0.220556   \n",
      "\n",
      "       X_26      X_27      X_28      X_29      X_30  Y  \n",
      "0  2.616665  2.109526  2.296076  2.750622  1.937015  1  \n",
      "1 -0.430444 -0.146749  1.087084 -0.243890  0.281190  1  \n",
      "2  1.082932  0.854974  1.955000  1.152255  0.201391  1  \n",
      "3  3.893397  1.989588  2.175786  6.046041  4.935010  1  \n",
      "4 -0.313395  0.613179  0.729259 -0.868353 -0.397100  1  \n",
      "\n",
      "[5 rows x 24 columns]\n"
     ]
    }
   ],
   "source": [
    "from pathlib import Path\n",
    "import pandas as pd\n",
    "import numpy as np\n",
    "from sklearn.preprocessing import StandardScaler\n",
    "\n",
    "\n",
    "\n",
    "missing = data.isnull().sum()\n",
    "print(\"Missing values:\\n\", missing[missing > 0])\n",
    "\n",
    "corr_matrix = data.drop(columns=\"Y\").corr().abs()\n",
    "upper = corr_matrix.where(np.triu(np.ones(corr_matrix.shape), k=1).astype(bool))\n",
    "to_drop = [column for column in upper.columns if any(upper[column] > 0.95)]\n",
    "print(\"Highly correlated features to drop:\", to_drop)\n",
    "data.drop(columns=to_drop, inplace=True)\n",
    "\n",
    "features = data.drop(columns=\"Y\")\n",
    "scaler = StandardScaler()\n",
    "scaled_features = scaler.fit_transform(features)\n",
    "data_scaled = pd.DataFrame(scaled_features, columns=features.columns)\n",
    "\n",
    "data_scaled[\"Y\"] = data[\"Y\"].values\n",
    "\n",
    "\n",
    "\n",
    "output_path = Path(\"../data/preprocessed/breast_cancer.csv\")\n",
    "output_path.parent.mkdir(parents=True, exist_ok=True)\n",
    "data_scaled.to_csv(output_path, index=False)\n",
    "\n",
    "print(f\"✅ Preprocessed data saved to: {output_path}\")\n",
    "print(data_scaled.head())"
   ]
  },
  {
   "cell_type": "markdown",
   "metadata": {},
   "source": [
    "### Ionosphere"
   ]
  }
 ],
 "metadata": {
  "kernelspec": {
   "display_name": "Advanced_ML_py311",
   "language": "python",
   "name": "python3"
  },
  "language_info": {
   "codemirror_mode": {
    "name": "ipython",
    "version": 3
   },
   "file_extension": ".py",
   "mimetype": "text/x-python",
   "name": "python",
   "nbconvert_exporter": "python",
   "pygments_lexer": "ipython3",
   "version": "3.11.11"
  }
 },
 "nbformat": 4,
 "nbformat_minor": 2
}
